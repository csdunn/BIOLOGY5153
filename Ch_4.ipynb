{
 "cells": [
  {
   "cell_type": "code",
   "execution_count": 1,
   "metadata": {},
   "outputs": [],
   "source": [
    "fruits = [\"apples\", \"oragnes\", \"bananas\"]"
   ]
  },
  {
   "cell_type": "code",
   "execution_count": 2,
   "metadata": {},
   "outputs": [],
   "source": [
    "conserved_sites = [14, 80, 260]"
   ]
  },
  {
   "cell_type": "code",
   "execution_count": 3,
   "metadata": {},
   "outputs": [
    {
     "name": "stdout",
     "output_type": "stream",
     "text": [
      "apples\n"
     ]
    }
   ],
   "source": [
    "print(fruits[0])"
   ]
  },
  {
   "cell_type": "code",
   "execution_count": 5,
   "metadata": {},
   "outputs": [],
   "source": [
    "veggie_index = fruits.index(\"apples\")"
   ]
  },
  {
   "cell_type": "code",
   "execution_count": 6,
   "metadata": {},
   "outputs": [],
   "source": [
    "last_fruit = fruits[-1]"
   ]
  },
  {
   "cell_type": "code",
   "execution_count": 7,
   "metadata": {},
   "outputs": [
    {
     "name": "stdout",
     "output_type": "stream",
     "text": [
      "bananas\n"
     ]
    }
   ],
   "source": [
    "print(last_fruit)"
   ]
  },
  {
   "cell_type": "code",
   "execution_count": 15,
   "metadata": {},
   "outputs": [
    {
     "name": "stdout",
     "output_type": "stream",
     "text": [
      "['knight', 'soldier', 'jester']\n"
     ]
    }
   ],
   "source": [
    "ranks = [\"king\" , \"queen\", \"knight\", \"soldier\", \"jester\"]\n",
    "lower_ranks = ranks[2:5]\n",
    "print(lower_ranks)"
   ]
  },
  {
   "cell_type": "code",
   "execution_count": 11,
   "metadata": {},
   "outputs": [
    {
     "name": "stdout",
     "output_type": "stream",
     "text": [
      "['apples', 'oragnes', 'bananas', 'grapes']\n"
     ]
    }
   ],
   "source": [
    "fruits.append(\"grapes\")\n",
    "print(fruits)"
   ]
  },
  {
   "cell_type": "code",
   "execution_count": 12,
   "metadata": {},
   "outputs": [
    {
     "name": "stdout",
     "output_type": "stream",
     "text": [
      "['apples', 'oragnes', 'bananas', 'grapes', 'carrot', 'lettuce', 'tomato']\n"
     ]
    }
   ],
   "source": [
    "veggies = [\"carrot\", \"lettuce\" , \"tomato\"]\n",
    "healthy_food = fruits + veggies\n",
    "print(healthy_food)"
   ]
  },
  {
   "cell_type": "code",
   "execution_count": 16,
   "metadata": {},
   "outputs": [
    {
     "name": "stdout",
     "output_type": "stream",
     "text": [
      "['jester', 'king', 'knight', 'queen', 'soldier']\n"
     ]
    }
   ],
   "source": [
    "ranks.sort()\n",
    "print(ranks)"
   ]
  },
  {
   "cell_type": "code",
   "execution_count": 17,
   "metadata": {},
   "outputs": [
    {
     "name": "stdout",
     "output_type": "stream",
     "text": [
      "['soldier', 'queen', 'knight', 'king', 'jester']\n"
     ]
    }
   ],
   "source": [
    "ranks.reverse()\n",
    "print(ranks)"
   ]
  },
  {
   "cell_type": "code",
   "execution_count": 19,
   "metadata": {},
   "outputs": [
    {
     "name": "stdout",
     "output_type": "stream",
     "text": [
      "apples are a fruit\n",
      "oragnes are a fruit\n",
      "bananas are a fruit\n",
      "grapes are a fruit\n"
     ]
    }
   ],
   "source": [
    "for fruit in fruits:\n",
    "    print(fruit + \" are a fruit\")"
   ]
  },
  {
   "cell_type": "code",
   "execution_count": 22,
   "metadata": {},
   "outputs": [
    {
     "name": "stdout",
     "output_type": "stream",
     "text": [
      "['Robbie', ' Tyler', ' Jeremy', ' Matthew']\n"
     ]
    }
   ],
   "source": [
    "brothers = \"Robbie, Tyler, Jeremy, Matthew\"\n",
    "species = brothers.split(\",\")\n",
    "print(str(species))"
   ]
  },
  {
   "cell_type": "code",
   "execution_count": null,
   "metadata": {},
   "outputs": [],
   "source": []
  }
 ],
 "metadata": {
  "kernelspec": {
   "display_name": "Python 3",
   "language": "python",
   "name": "python3"
  },
  "language_info": {
   "codemirror_mode": {
    "name": "ipython",
    "version": 3
   },
   "file_extension": ".py",
   "mimetype": "text/x-python",
   "name": "python",
   "nbconvert_exporter": "python",
   "pygments_lexer": "ipython3",
   "version": "3.6.4"
  }
 },
 "nbformat": 4,
 "nbformat_minor": 2
}
