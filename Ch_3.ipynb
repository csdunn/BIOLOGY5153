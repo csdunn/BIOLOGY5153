{
 "cells": [
  {
   "cell_type": "code",
   "execution_count": 3,
   "metadata": {},
   "outputs": [],
   "source": [
    "my_file = open(\"/Users/Celeste/Desktop/BIOL_5153/dna.txt\")"
   ]
  },
  {
   "cell_type": "code",
   "execution_count": 4,
   "metadata": {},
   "outputs": [
    {
     "name": "stdout",
     "output_type": "stream",
     "text": [
      "<open file '/Users/Celeste/Desktop/BIOL_5153/dna.txt', mode 'r' at 0x10a0f3ed0>\n"
     ]
    }
   ],
   "source": [
    "print (my_file)"
   ]
  },
  {
   "cell_type": "code",
   "execution_count": 13,
   "metadata": {},
   "outputs": [
    {
     "name": "stdout",
     "output_type": "stream",
     "text": [
      "ACBDEFG\n",
      "43\n"
     ]
    }
   ],
   "source": [
    "my_string = 'ACBDEFG'\n",
    "print(my_string)\n",
    "my_number = 42\n",
    "print (my_number + 1)"
   ]
  },
  {
   "cell_type": "code",
   "execution_count": 5,
   "metadata": {},
   "outputs": [
    {
     "data": {
      "text/plain": [
       "<function close>"
      ]
     },
     "execution_count": 5,
     "metadata": {},
     "output_type": "execute_result"
    }
   ],
   "source": [
    "my_file = open(\"/Users/Celeste/Desktop/BIOL_5153/dna.txt\", \"w\")\n",
    "my_file.write(\"Hello World\")\n",
    "my_file.close"
   ]
  },
  {
   "cell_type": "code",
   "execution_count": 6,
   "metadata": {},
   "outputs": [],
   "source": [
    "my_file = open(\"/Users/Celeste/Desktop/BIOL_5153/dna.txt\")"
   ]
  },
  {
   "cell_type": "code",
   "execution_count": 8,
   "metadata": {},
   "outputs": [],
   "source": [
    "my_file = open(\"/Users/Celeste/Desktop/BIOL_5153/dna.txt\", \"w\")\n",
    "my_file.write(str(len('GTACATGA')))"
   ]
  },
  {
   "cell_type": "code",
   "execution_count": 9,
   "metadata": {},
   "outputs": [
    {
     "name": "stdout",
     "output_type": "stream",
     "text": [
      "<open file '/Users/Celeste/Desktop/BIOL_5153/dna.txt', mode 'w' at 0x10a1ae300>\n"
     ]
    }
   ],
   "source": [
    "print(my_file)"
   ]
  },
  {
   "cell_type": "code",
   "execution_count": null,
   "metadata": {},
   "outputs": [],
   "source": []
  }
 ],
 "metadata": {
  "kernelspec": {
   "display_name": "Python 2",
   "language": "python",
   "name": "python2"
  },
  "language_info": {
   "codemirror_mode": {
    "name": "ipython",
    "version": 2
   },
   "file_extension": ".py",
   "mimetype": "text/x-python",
   "name": "python",
   "nbconvert_exporter": "python",
   "pygments_lexer": "ipython2",
   "version": "2.7.14"
  }
 },
 "nbformat": 4,
 "nbformat_minor": 2
}
